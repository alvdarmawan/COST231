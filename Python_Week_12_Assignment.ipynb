{
  "nbformat": 4,
  "nbformat_minor": 0,
  "metadata": {
    "colab": {
      "name": "Python Week 12 Assignment.ipynb",
      "provenance": [],
      "collapsed_sections": [],
      "authorship_tag": "ABX9TyP+uH+JWOJXYxMZcDjz7Du+",
      "include_colab_link": true
    },
    "kernelspec": {
      "name": "python3",
      "display_name": "Python 3"
    }
  },
  "cells": [
    {
      "cell_type": "markdown",
      "metadata": {
        "id": "view-in-github",
        "colab_type": "text"
      },
      "source": [
        "<a href=\"https://colab.research.google.com/github/alvdarmawan/COST231/blob/main/Python_Week_12_Assignment.ipynb\" target=\"_parent\"><img src=\"https://colab.research.google.com/assets/colab-badge.svg\" alt=\"Open In Colab\"/></a>"
      ]
    },
    {
      "cell_type": "markdown",
      "metadata": {
        "id": "hoRooNlDs3FP"
      },
      "source": [
        "<h1>Name: Alvin Darmawan<br>\r\n",
        "Student ID: 1101194102<br>\r\n",
        "Class: TT-43-G3</h1>"
      ]
    },
    {
      "cell_type": "code",
      "metadata": {
        "id": "cSyLj8lJYzbD"
      },
      "source": [
        "import math"
      ],
      "execution_count": null,
      "outputs": []
    },
    {
      "cell_type": "code",
      "metadata": {
        "id": "Si074P65nFw0",
        "colab": {
          "base_uri": "https://localhost:8080/"
        },
        "outputId": "8b9d7155-bbb9-4559-87ed-03821e4ec49a"
      },
      "source": [
        "d = float(input(\"Distance (in kilometres): \"))*1000\r\n",
        "fc = float(input(\"Frequency (400-2000 MHz): \"))*1000000\r\n",
        "atype = input(\"Area Type (Urban/Suburban/Open): \")\r\n",
        "ht = float(input(\"Transmitter Height (30-200 m): \"))\r\n",
        "hr = float(input(\"Receiver Height (1-30 m): \"))"
      ],
      "execution_count": null,
      "outputs": [
        {
          "output_type": "stream",
          "text": [
            "Distance (in kilometres): 5\n",
            "Frequency (400-2000 MHz): 1200\n",
            "Area Type (Urban/Suburban/Open): Suburban\n",
            "Transmitter Height (30-200 m): 115\n",
            "Receiver Height (1-30 m): 15.5\n"
          ],
          "name": "stdout"
        }
      ]
    },
    {
      "cell_type": "code",
      "metadata": {
        "id": "CnZPwKyWiBWN"
      },
      "source": [
        "def cost231():\r\n",
        "  if fc >= 400000000 and fc <= 2000000000 and ht >= 30 and ht <= 200 and hr >= 1 and hr <= 30:\r\n",
        "    if fc >= 400000000 and fc <= 1500000000:\r\n",
        "      c1 = 69.55\r\n",
        "      c2 = 26.16\r\n",
        "    elif fc > 1500000000 and fc <= 2000000000:\r\n",
        "      c1 = 46.3\r\n",
        "      c2 = 33.9\r\n",
        "  else:\r\n",
        "    print(\"[ERROR] Please only enter values inside the specified range.\")\r\n",
        "  \r\n",
        "  if atype.lower() == 'urban':\r\n",
        "    cm = 0\r\n",
        "  elif atype.lower() == 'suburban':\r\n",
        "    cm = -2*(math.log10(fc/28))**2 - 5.4\r\n",
        "  elif atype.lower() == 'open':\r\n",
        "    cm = -4.78*(math.log10(fc))**2 + 18.33*math.log10(fc) - 40.94\r\n",
        "  else:\r\n",
        "    print(\"[ERROR] Please pick one of the three are types.\")\r\n",
        "\r\n",
        "  a = (1.1*math.log10(fc) - 0.7)*hr - (1.56*math.log10(fc) - 0.8)\r\n",
        "  Lp = c1 + c2*math.log10(fc) - 13.83*math.log10(ht) - a + (44.9 - 6.55*math.log10(ht))*math.log10(d) + cm\r\n",
        "  Lpd = \"{:.2f}\".format(Lp)\r\n",
        "\r\n",
        "  print(\"Distance: \", d/1000, \" km\")\r\n",
        "  print(\"Frequency: \", fc/1000000, \" MHz\")\r\n",
        "  print(\"Area Type: \" +atype)\r\n",
        "  print(\"Transmitter Height: \", ht, \" m\")\r\n",
        "  print(\"Receiver Height: \", hr, \" m\")\r\n",
        "  print(\"Path Loss = \" +Lpd+ \" dB\")"
      ],
      "execution_count": null,
      "outputs": []
    },
    {
      "cell_type": "code",
      "metadata": {
        "id": "f96SdY0knQnJ",
        "colab": {
          "base_uri": "https://localhost:8080/"
        },
        "outputId": "1483f82b-94d0-43fc-bbb7-3b7ac0adbcbe"
      },
      "source": [
        "cost231()"
      ],
      "execution_count": null,
      "outputs": [
        {
          "output_type": "stream",
          "text": [
            "Distance:  5.0  km\n",
            "Frequency:  1200.0  MHz\n",
            "Area Type: Suburban\n",
            "Transmitter Height:  115.0  m\n",
            "Receiver Height:  15.5  m\n",
            "Path Loss = 142.24 dB\n"
          ],
          "name": "stdout"
        }
      ]
    }
  ]
}