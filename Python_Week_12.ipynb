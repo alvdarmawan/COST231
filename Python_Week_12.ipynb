{
  "nbformat": 4,
  "nbformat_minor": 0,
  "metadata": {
    "colab": {
      "name": "Python Week 12.ipynb",
      "provenance": [],
      "authorship_tag": "ABX9TyMwM5OkzF/ABViqBN8j+9tJ",
      "include_colab_link": true
    },
    "kernelspec": {
      "name": "python3",
      "display_name": "Python 3"
    }
  },
  "cells": [
    {
      "cell_type": "markdown",
      "metadata": {
        "id": "view-in-github",
        "colab_type": "text"
      },
      "source": [
        "<a href=\"https://colab.research.google.com/github/alvdarmawan/COST231/blob/main/Python_Week_12.ipynb\" target=\"_parent\"><img src=\"https://colab.research.google.com/assets/colab-badge.svg\" alt=\"Open In Colab\"/></a>"
      ]
    },
    {
      "cell_type": "markdown",
      "metadata": {
        "id": "hoRooNlDs3FP"
      },
      "source": [
        "Name: Alvin Darmawan<br>\r\n",
        "ID: 1101194102<br>\r\n",
        "Class: TT-43-G3"
      ]
    },
    {
      "cell_type": "code",
      "metadata": {
        "id": "cSyLj8lJYzbD"
      },
      "source": [
        "import math"
      ],
      "execution_count": null,
      "outputs": []
    },
    {
      "cell_type": "code",
      "metadata": {
        "id": "Si074P65nFw0",
        "colab": {
          "base_uri": "https://localhost:8080/"
        },
        "outputId": "c4216e8e-d2d3-47c6-8c1d-48ef80f462b1"
      },
      "source": [
        "d=float(input(\"Distance (in kilometres): \"))\r\n",
        "fc=float(input(\"Frequency (400-2000 MHz): \"))\r\n",
        "atype=input(\"Area Type (Urban/Suburban/Open): \")\r\n",
        "ht=float(input(\"Transmitter Height (30-200 m): \"))\r\n",
        "hr=float(input(\"Receiver Height (1-30 m): \"))\r\n",
        "\r\n",
        "def cost231():\r\n",
        "  if fc>=400 and fc<=2000 and ht>=30 and ht<=200 and hr>=1 and hr<=30:\r\n",
        "    if atype.lower() in ['urban','suburban','open']:\r\n",
        "      if fc>=400 and fc<=1500:\r\n",
        "        c1=69.55\r\n",
        "        c2=26.16\r\n",
        "      elif fc>1500 and fc<=2000:\r\n",
        "        c1=46.3\r\n",
        "        c2=33.9\r\n",
        "  else:\r\n",
        "    print(\"[ERROR] Please only enter values inside the specified range.\")\r\n",
        "  \r\n",
        "  if atype.lower()=='urban':\r\n",
        "    cm=0\r\n",
        "  elif atype.lower()=='suburban':\r\n",
        "    cm=-2*(math.log10(fc*1000000/28))**2-5.4\r\n",
        "  elif atype.lower()=='open':\r\n",
        "    cm=-4.78*(math.log10(fc*1000000))**2+18.33*math.log10(fc*1000000)-40.94\r\n",
        "  else:\r\n",
        "    print(\"[ERROR] Please pick one of the three are types.\")\r\n",
        "\r\n",
        "  a=(1.1*math.log10(fc*1000000)-0.7)*hr-(1.56*math.log10(fc*1000000)-0.8)\r\n",
        "  Lp=c1+c2*math.log10(fc*1000000)-13.83*math.log10(ht)-a+(44.9-6.55*math.log10(ht))*math.log10(d*1000)+cm\r\n",
        "\r\n",
        "  print(\"Path Loss (in decibels) = \", Lp)"
      ],
      "execution_count": null,
      "outputs": [
        {
          "output_type": "stream",
          "text": [
            "Distance (in kilometres): 2\n",
            "Frequency (400-2000 MHz): 500\n",
            "Area Type (Urban/Suburban/Open): urban\n",
            "Transmitter Height (30-200 m): 40\n",
            "Receiver Height (1-30 m): 25\n"
          ],
          "name": "stdout"
        }
      ]
    },
    {
      "cell_type": "code",
      "metadata": {
        "colab": {
          "base_uri": "https://localhost:8080/"
        },
        "id": "f96SdY0knQnJ",
        "outputId": "9b3783d5-04ce-4f9e-c3a7-9ebfd1402f29"
      },
      "source": [
        "cost231()"
      ],
      "execution_count": null,
      "outputs": [
        {
          "output_type": "stream",
          "text": [
            "Path Loss (in decibels) =  179.58419556141553\n"
          ],
          "name": "stdout"
        }
      ]
    }
  ]
}